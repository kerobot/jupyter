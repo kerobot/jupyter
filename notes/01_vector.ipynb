{
 "cells": [
  {
   "cell_type": "code",
   "execution_count": 23,
   "metadata": {},
   "outputs": [],
   "source": [
    "import numpy as np\n",
    "import sympy as sy\n",
    "sy.init_printing()"
   ]
  },
  {
   "cell_type": "code",
   "execution_count": 24,
   "metadata": {},
   "outputs": [
    {
     "data": {
      "text/plain": [
       "((3, 1), 2, dtype('int32'))"
      ]
     },
     "execution_count": 24,
     "metadata": {},
     "output_type": "execute_result"
    }
   ],
   "source": [
    "# Create a 3x1 numpy array\n",
    "v = np.array([[1],[2],[3]])\n",
    "# Print the shape, number of dimensions, and the data type of the array\n",
    "v.shape, v.ndim, v.dtype"
   ]
  },
  {
   "cell_type": "code",
   "execution_count": 25,
   "metadata": {},
   "outputs": [
    {
     "data": {
      "text/latex": [
       "$\\displaystyle \\left( \\left( 3, \\  1\\right), \\  \\left[\\begin{matrix}1\\\\2\\\\3\\end{matrix}\\right]\\right)$"
      ],
      "text/plain": [
       "⎛        ⎡1⎤⎞\n",
       "⎜        ⎢ ⎥⎟\n",
       "⎜(3, 1), ⎢2⎥⎟\n",
       "⎜        ⎢ ⎥⎟\n",
       "⎝        ⎣3⎦⎠"
      ]
     },
     "execution_count": 25,
     "metadata": {},
     "output_type": "execute_result"
    }
   ],
   "source": [
    "# Create a 3x1 sympy matrix\n",
    "v_s = sy.Matrix([1, 2, 3])\n",
    "v_s.shape, v_s"
   ]
  },
  {
   "cell_type": "code",
   "execution_count": 26,
   "metadata": {},
   "outputs": [
    {
     "data": {
      "text/plain": [
       "((1, 3), 2, dtype('int32'))"
      ]
     },
     "execution_count": 26,
     "metadata": {},
     "output_type": "execute_result"
    }
   ],
   "source": [
    "# Create a 1x3 numpy array\n",
    "w = np.array([[1, 2, 3]])\n",
    "w.shape, w.ndim, w.dtype"
   ]
  },
  {
   "cell_type": "code",
   "execution_count": 27,
   "metadata": {},
   "outputs": [
    {
     "data": {
      "text/latex": [
       "$\\displaystyle \\left( \\left( 1, \\  3\\right), \\  \\left[\\begin{matrix}1 & 2 & 3\\end{matrix}\\right]\\right)$"
      ],
      "text/plain": [
       "((1, 3), [1  2  3])"
      ]
     },
     "execution_count": 27,
     "metadata": {},
     "output_type": "execute_result"
    }
   ],
   "source": [
    "# Create a 1x3 sympy matrix\n",
    "w_s = sy.Matrix([[1, 2, 3]])\n",
    "w_s.shape, w_s"
   ]
  },
  {
   "cell_type": "code",
   "execution_count": 28,
   "metadata": {},
   "outputs": [
    {
     "data": {
      "text/plain": [
       "array([[1],\n",
       "       [2],\n",
       "       [3]])"
      ]
     },
     "execution_count": 28,
     "metadata": {},
     "output_type": "execute_result"
    }
   ],
   "source": [
    "# 次元を指定してnumpy配列を作成し転置（行列変換）する\n",
    "v = np.array([1, 2, 3], ndmin=2).T\n",
    "v"
   ]
  },
  {
   "cell_type": "code",
   "execution_count": 29,
   "metadata": {},
   "outputs": [
    {
     "data": {
      "text/plain": [
       "array([[ 4],\n",
       "       [-2]])"
      ]
     },
     "execution_count": 29,
     "metadata": {},
     "output_type": "execute_result"
    }
   ],
   "source": [
    "# ベクトルの和\n",
    "v = np.array([[1, 2]]).T\n",
    "w = np.array([[3, -4]]).T\n",
    "v + w"
   ]
  },
  {
   "cell_type": "code",
   "execution_count": 30,
   "metadata": {},
   "outputs": [
    {
     "data": {
      "text/latex": [
       "$\\displaystyle \\left[\\begin{matrix}4\\\\-2\\end{matrix}\\right]$"
      ],
      "text/plain": [
       "⎡4 ⎤\n",
       "⎢  ⎥\n",
       "⎣-2⎦"
      ]
     },
     "execution_count": 30,
     "metadata": {},
     "output_type": "execute_result"
    }
   ],
   "source": [
    "v_s = sy.Matrix(v)\n",
    "w_s = sy.Matrix(w)\n",
    "v_s + w_s"
   ]
  },
  {
   "cell_type": "code",
   "execution_count": 31,
   "metadata": {},
   "outputs": [
    {
     "data": {
      "text/plain": [
       "array([[6],\n",
       "       [2],\n",
       "       [8]])"
      ]
     },
     "execution_count": 31,
     "metadata": {},
     "output_type": "execute_result"
    }
   ],
   "source": [
    "# ベクトルのスカラー倍\n",
    "c = 2\n",
    "v = np.array([[3, 1, 4]]).T\n",
    "c * v"
   ]
  },
  {
   "cell_type": "code",
   "execution_count": 32,
   "metadata": {},
   "outputs": [
    {
     "data": {
      "text/latex": [
       "$\\displaystyle \\left[\\begin{matrix}9\\\\3\\\\12\\end{matrix}\\right]$"
      ],
      "text/plain": [
       "⎡9 ⎤\n",
       "⎢  ⎥\n",
       "⎢3 ⎥\n",
       "⎢  ⎥\n",
       "⎣12⎦"
      ]
     },
     "execution_count": 32,
     "metadata": {},
     "output_type": "execute_result"
    }
   ],
   "source": [
    "c = 3\n",
    "v_s = sy.Matrix(v)\n",
    "c * v_s"
   ]
  },
  {
   "cell_type": "code",
   "execution_count": 33,
   "metadata": {},
   "outputs": [],
   "source": [
    "# v = xi+yj (iとjは基底ベクトル)\n",
    "# (3, 2) = 3i + 2j ... i=(1, 0), j=(0, 1)"
   ]
  },
  {
   "cell_type": "code",
   "execution_count": 34,
   "metadata": {},
   "outputs": [
    {
     "data": {
      "text/plain": [
       "-9"
      ]
     },
     "execution_count": 34,
     "metadata": {},
     "output_type": "execute_result"
    }
   ],
   "source": [
    "# ユークリッド内積 (u1*v1 + u2*v2 + u3*v3)\n",
    "u = np.array([[-2, 3, 5]]).T\n",
    "v = np.array([[6, 1, 0]]).T\n",
    "np.vdot(u, v)"
   ]
  },
  {
   "cell_type": "code",
   "execution_count": 35,
   "metadata": {},
   "outputs": [
    {
     "data": {
      "text/latex": [
       "$\\displaystyle -9$"
      ],
      "text/plain": [
       "-9"
      ]
     },
     "execution_count": 35,
     "metadata": {},
     "output_type": "execute_result"
    }
   ],
   "source": [
    "u_s = sy.Matrix(u)\n",
    "v_s = sy.Matrix(v)\n",
    "u_s.dot(v_s)"
   ]
  },
  {
   "cell_type": "code",
   "execution_count": 36,
   "metadata": {},
   "outputs": [
    {
     "data": {
      "text/latex": [
       "$\\displaystyle \\left( 11.0, \\  9.0, \\  17.0\\right)$"
      ],
      "text/plain": [
       "(11.0, 9.0, 17.0)"
      ]
     },
     "execution_count": 36,
     "metadata": {},
     "output_type": "execute_result"
    }
   ],
   "source": [
    "from scipy import linalg as sla\n",
    "\n",
    "v = np.array([[9, 2, -6]]).T\n",
    "# 2-ノルム, 最大値ノルム, 1-ノルム (ノルム＝ベクトルの長さ)\n",
    "sla.norm(v), sla.norm(v, np.inf), sla.norm(v, 1)"
   ]
  },
  {
   "cell_type": "code",
   "execution_count": 37,
   "metadata": {},
   "outputs": [
    {
     "data": {
      "text/latex": [
       "$\\displaystyle \\left( 11, \\  9, \\  17\\right)$"
      ],
      "text/plain": [
       "(11, 9, 17)"
      ]
     },
     "execution_count": 37,
     "metadata": {},
     "output_type": "execute_result"
    }
   ],
   "source": [
    "v_s = sy.Matrix(v)\n",
    "# 2-ノルム, 最大値ノルム, 1-ノルム\n",
    "v_s.norm(), v_s.norm(sy.oo), v_s.norm(1)"
   ]
  },
  {
   "cell_type": "code",
   "execution_count": 38,
   "metadata": {},
   "outputs": [
    {
     "data": {
      "text/latex": [
       "$\\displaystyle 103.887799644072$"
      ],
      "text/plain": [
       "103.88779964407195"
      ]
     },
     "execution_count": 38,
     "metadata": {},
     "output_type": "execute_result"
    }
   ],
   "source": [
    "u = np.array([[-2, 3, 5]]).T\n",
    "v = np.array([[6, 1, 0]]).T\n",
    "# ベクトルのノルム(長さ)を計算(|u||v|)\n",
    "sla.norm(u), sla.norm(v)\n",
    "# ユークリッド内積を計算(u・v)\n",
    "np.vdot(u, v)\n",
    "# ベクトル間の\"角度の余弦\"を計算(cosΘ = u・v / |u||v|)\n",
    "c = np.vdot(u, v) / (sla.norm(u) * sla.norm(v))\n",
    "# \"角度の余弦\"をラジアン角度に変換（np.clipでcosΘの範囲に制限を設け、np.arccosで逆余弦関数を適用）\n",
    "angle = np.arccos(np.clip(c, -1, 1))\n",
    "# ラジアン角度を度数に変換\n",
    "np.rad2deg(angle)"
   ]
  }
 ],
 "metadata": {
  "kernelspec": {
   "display_name": ".venv",
   "language": "python",
   "name": "python3"
  },
  "language_info": {
   "codemirror_mode": {
    "name": "ipython",
    "version": 3
   },
   "file_extension": ".py",
   "mimetype": "text/x-python",
   "name": "python",
   "nbconvert_exporter": "python",
   "pygments_lexer": "ipython3",
   "version": "3.11.1"
  }
 },
 "nbformat": 4,
 "nbformat_minor": 2
}
