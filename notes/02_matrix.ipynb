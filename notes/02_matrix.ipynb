{
 "cells": [
  {
   "cell_type": "code",
   "execution_count": 2,
   "metadata": {},
   "outputs": [],
   "source": [
    "import numpy as np\n",
    "import sympy as sy\n",
    "sy.init_printing()"
   ]
  },
  {
   "cell_type": "code",
   "execution_count": 4,
   "metadata": {},
   "outputs": [
    {
     "data": {
      "text/plain": [
       "(array([[1, 4, 7],\n",
       "        [2, 5, 8],\n",
       "        [3, 6, 9]]),\n",
       " (3, 3))"
      ]
     },
     "execution_count": 4,
     "metadata": {},
     "output_type": "execute_result"
    }
   ],
   "source": [
    "A = np.array([[1, 4, 7],\n",
    "[2, 5, 8],\n",
    "[3, 6, 9]])\n",
    "A, A.shape"
   ]
  },
  {
   "cell_type": "code",
   "execution_count": 5,
   "metadata": {},
   "outputs": [
    {
     "data": {
      "text/latex": [
       "$\\displaystyle \\left[\\begin{matrix}1 & 4 & 7\\\\2 & 5 & 8\\\\3 & 6 & 9\\end{matrix}\\right]$"
      ],
      "text/plain": [
       "⎡1  4  7⎤\n",
       "⎢       ⎥\n",
       "⎢2  5  8⎥\n",
       "⎢       ⎥\n",
       "⎣3  6  9⎦"
      ]
     },
     "execution_count": 5,
     "metadata": {},
     "output_type": "execute_result"
    }
   ],
   "source": [
    "A_s = sy.Matrix([[1, 4, 7],\n",
    "[2, 5, 8],\n",
    "[3, 6, 9]])\n",
    "A_s"
   ]
  },
  {
   "cell_type": "code",
   "execution_count": 6,
   "metadata": {},
   "outputs": [
    {
     "data": {
      "text/plain": [
       "array([[0., 0., 0.],\n",
       "       [0., 0., 0.],\n",
       "       [0., 0., 0.]])"
      ]
     },
     "execution_count": 6,
     "metadata": {},
     "output_type": "execute_result"
    }
   ],
   "source": [
    "# ゼロ行列=O\n",
    "np.zeros((3, 3))"
   ]
  },
  {
   "cell_type": "code",
   "execution_count": 7,
   "metadata": {},
   "outputs": [
    {
     "data": {
      "text/latex": [
       "$\\displaystyle \\left[\\begin{matrix}0 & 0 & 0\\\\0 & 0 & 0\\\\0 & 0 & 0\\end{matrix}\\right]$"
      ],
      "text/plain": [
       "⎡0  0  0⎤\n",
       "⎢       ⎥\n",
       "⎢0  0  0⎥\n",
       "⎢       ⎥\n",
       "⎣0  0  0⎦"
      ]
     },
     "execution_count": 7,
     "metadata": {},
     "output_type": "execute_result"
    }
   ],
   "source": [
    "sy.zeros(3)"
   ]
  },
  {
   "cell_type": "code",
   "execution_count": 8,
   "metadata": {},
   "outputs": [
    {
     "data": {
      "text/plain": [
       "array([[1., 0., 0.],\n",
       "       [0., 1., 0.],\n",
       "       [0., 0., 1.]])"
      ]
     },
     "execution_count": 8,
     "metadata": {},
     "output_type": "execute_result"
    }
   ],
   "source": [
    "# 単位行列=I\n",
    "np.eye(3)"
   ]
  },
  {
   "cell_type": "code",
   "execution_count": 9,
   "metadata": {},
   "outputs": [
    {
     "data": {
      "text/latex": [
       "$\\displaystyle \\left[\\begin{matrix}1 & 0 & 0\\\\0 & 1 & 0\\\\0 & 0 & 1\\end{matrix}\\right]$"
      ],
      "text/plain": [
       "⎡1  0  0⎤\n",
       "⎢       ⎥\n",
       "⎢0  1  0⎥\n",
       "⎢       ⎥\n",
       "⎣0  0  1⎦"
      ]
     },
     "execution_count": 9,
     "metadata": {},
     "output_type": "execute_result"
    }
   ],
   "source": [
    "sy.eye(3)"
   ]
  },
  {
   "cell_type": "code",
   "execution_count": 10,
   "metadata": {},
   "outputs": [
    {
     "data": {
      "text/plain": [
       "array([[12, 14, 16],\n",
       "       [18, 20, 22]])"
      ]
     },
     "execution_count": 10,
     "metadata": {},
     "output_type": "execute_result"
    }
   ],
   "source": [
    "# 行列の和\n",
    "A = np.array([[1, 2, 3],\n",
    "[4, 5, 6]])\n",
    "B = np.array([[11, 12, 13],\n",
    "[14, 15, 16]])\n",
    "A + B"
   ]
  },
  {
   "cell_type": "code",
   "execution_count": 12,
   "metadata": {},
   "outputs": [
    {
     "data": {
      "text/latex": [
       "$\\displaystyle \\left[\\begin{matrix}12 & 14 & 16\\\\18 & 20 & 22\\end{matrix}\\right]$"
      ],
      "text/plain": [
       "⎡12  14  16⎤\n",
       "⎢          ⎥\n",
       "⎣18  20  22⎦"
      ]
     },
     "execution_count": 12,
     "metadata": {},
     "output_type": "execute_result"
    }
   ],
   "source": [
    "A_s = sy.Matrix(A)\n",
    "B_s = sy.Matrix(B)\n",
    "A_s + B_s"
   ]
  },
  {
   "cell_type": "code",
   "execution_count": 13,
   "metadata": {},
   "outputs": [
    {
     "data": {
      "text/plain": [
       "array([[ 2,  4,  6],\n",
       "       [ 8, 10, 12]])"
      ]
     },
     "execution_count": 13,
     "metadata": {},
     "output_type": "execute_result"
    }
   ],
   "source": [
    "# 行列のスカラー倍\n",
    "c = 2\n",
    "c * A"
   ]
  },
  {
   "cell_type": "code",
   "execution_count": 14,
   "metadata": {},
   "outputs": [
    {
     "data": {
      "text/latex": [
       "$\\displaystyle \\left[\\begin{matrix}2 & 4 & 6\\\\8 & 10 & 12\\end{matrix}\\right]$"
      ],
      "text/plain": [
       "⎡2  4   6 ⎤\n",
       "⎢         ⎥\n",
       "⎣8  10  12⎦"
      ]
     },
     "execution_count": 14,
     "metadata": {},
     "output_type": "execute_result"
    }
   ],
   "source": [
    "c * A_s"
   ]
  },
  {
   "cell_type": "code",
   "execution_count": 17,
   "metadata": {},
   "outputs": [
    {
     "data": {
      "text/plain": [
       "(array([[3, 1, 4],\n",
       "        [1, 5, 2]]),\n",
       " array([[-1,  0],\n",
       "        [ 1,  1],\n",
       "        [ 2,  0]]),\n",
       " array([[6, 1],\n",
       "        [8, 5]]))"
      ]
     },
     "execution_count": 17,
     "metadata": {},
     "output_type": "execute_result"
    }
   ],
   "source": [
    "# 行列の積\n",
    "# 正の整数 m,n,p として A が m×p 行列、B が p×n 行列である場合のみ計算可能\n",
    "A = np.array([[3, 1, 4],\n",
    "[1, 5, 2]])\n",
    "B = np.array([[-1, 0],\n",
    "[1, 1],\n",
    "[2, 0]])\n",
    "A, B, A @ B"
   ]
  },
  {
   "cell_type": "code",
   "execution_count": 18,
   "metadata": {},
   "outputs": [
    {
     "data": {
      "text/latex": [
       "$\\displaystyle \\left( \\left[\\begin{matrix}3 & 1 & 4\\\\1 & 5 & 2\\end{matrix}\\right], \\  \\left[\\begin{matrix}-1 & 0\\\\1 & 1\\\\2 & 0\\end{matrix}\\right], \\  \\left[\\begin{matrix}6 & 1\\\\8 & 5\\end{matrix}\\right]\\right)$"
      ],
      "text/plain": [
       "⎛           ⎡-1  0⎤        ⎞\n",
       "⎜⎡3  1  4⎤  ⎢     ⎥  ⎡6  1⎤⎟\n",
       "⎜⎢       ⎥, ⎢1   1⎥, ⎢    ⎥⎟\n",
       "⎜⎣1  5  2⎦  ⎢     ⎥  ⎣8  5⎦⎟\n",
       "⎝           ⎣2   0⎦        ⎠"
      ]
     },
     "execution_count": 18,
     "metadata": {},
     "output_type": "execute_result"
    }
   ],
   "source": [
    "A_s = sy.Matrix(A)\n",
    "B_s = sy.Matrix(B)\n",
    "A_s, B_s, A_s * B_s"
   ]
  },
  {
   "cell_type": "code",
   "execution_count": 19,
   "metadata": {},
   "outputs": [
    {
     "data": {
      "text/plain": [
       "(array([[ 1.,  0.,  1.,  0.],\n",
       "        [ 0.,  1.,  0.,  1.],\n",
       "        [ 0.,  0., -4.,  1.]]),\n",
       " array([[1., 0., 0.],\n",
       "        [0., 1., 0.],\n",
       "        [0., 0., 2.],\n",
       "        [0., 0., 1.]]),\n",
       " array([[ 1.,  0.,  2.],\n",
       "        [ 0.,  1.,  1.],\n",
       "        [ 0.,  0., -7.]]))"
      ]
     },
     "execution_count": 19,
     "metadata": {},
     "output_type": "execute_result"
    }
   ],
   "source": [
    "# ブロック行列の積\n",
    "C = np.array([[-4, 1]])\n",
    "D = np.array([[2],\n",
    "[1]])\n",
    "A = np.block([[np.eye(2), np.eye(2)],\n",
    "[np.zeros((1, 2)), C]])\n",
    "B = np.block([[np.eye(2), np.zeros((2, 1))],\n",
    "[np.zeros((2, 2)), D]])\n",
    "A, B, A @ B"
   ]
  },
  {
   "cell_type": "code",
   "execution_count": 22,
   "metadata": {},
   "outputs": [
    {
     "data": {
      "text/latex": [
       "$\\displaystyle \\left( \\left[\\begin{matrix}\\mathbb{I} & \\mathbb{I}\\\\0 & C\\end{matrix}\\right], \\  \\left[\\begin{matrix}\\mathbb{I} & 0\\\\0 & D\\end{matrix}\\right], \\  \\left[\\begin{matrix}1 & 0 & D_{0, 0}\\\\0 & 1 & D_{1, 0}\\\\0 & 0 & C_{0, 0} D_{0, 0} + C_{0, 1} D_{1, 0}\\end{matrix}\\right]\\right)$"
      ],
      "text/plain": [
       "⎛                ⎡1  0         D₀₀       ⎤⎞\n",
       "⎜⎡𝕀  𝕀⎤  ⎡𝕀  𝟘⎤  ⎢                       ⎥⎟\n",
       "⎜⎢    ⎥, ⎢    ⎥, ⎢0  1         D₁₀       ⎥⎟\n",
       "⎜⎣𝟘  C⎦  ⎣𝟘  D⎦  ⎢                       ⎥⎟\n",
       "⎝                ⎣0  0  C₀₀⋅D₀₀ + C₀₁⋅D₁₀⎦⎠"
      ]
     },
     "execution_count": 22,
     "metadata": {},
     "output_type": "execute_result"
    }
   ],
   "source": [
    "C = sy.MatrixSymbol('C', 1, 2)\n",
    "D = sy.MatrixSymbol('D', 2, 1)\n",
    "A = sy.BlockMatrix([[sy.Identity(2), sy.Identity(2)],\n",
    "[sy.ZeroMatrix(1, 2), C]])\n",
    "B = sy.BlockMatrix([[sy.Identity(2), sy.ZeroMatrix(2, 1)],\n",
    "[sy.ZeroMatrix(2, 2), D]])\n",
    "A, B, (A * B).as_explicit()\n",
    "# I=単位行列 O=ゼロ行列"
   ]
  },
  {
   "cell_type": "code",
   "execution_count": 23,
   "metadata": {},
   "outputs": [
    {
     "data": {
      "text/plain": [
       "(array([[3, 5, 8],\n",
       "        [1, 0, 9]]),\n",
       " array([[3, 1],\n",
       "        [5, 0],\n",
       "        [8, 9]]))"
      ]
     },
     "execution_count": 23,
     "metadata": {},
     "output_type": "execute_result"
    }
   ],
   "source": [
    "# 転置行列\n",
    "A = np.array([[3, 5, 8],\n",
    "[1, 0, 9]])\n",
    "A, A.T"
   ]
  },
  {
   "cell_type": "code",
   "execution_count": 24,
   "metadata": {},
   "outputs": [
    {
     "data": {
      "text/latex": [
       "$\\displaystyle \\left( \\left[\\begin{matrix}3 & 5 & 8\\\\1 & 0 & 9\\end{matrix}\\right], \\  \\left[\\begin{matrix}3 & 1\\\\5 & 0\\\\8 & 9\\end{matrix}\\right]\\right)$"
      ],
      "text/plain": [
       "⎛           ⎡3  1⎤⎞\n",
       "⎜⎡3  5  8⎤  ⎢    ⎥⎟\n",
       "⎜⎢       ⎥, ⎢5  0⎥⎟\n",
       "⎜⎣1  0  9⎦  ⎢    ⎥⎟\n",
       "⎝           ⎣8  9⎦⎠"
      ]
     },
     "execution_count": 24,
     "metadata": {},
     "output_type": "execute_result"
    }
   ],
   "source": [
    "A_s = sy.Matrix(A)\n",
    "A_s, A_s.T"
   ]
  },
  {
   "cell_type": "code",
   "execution_count": 26,
   "metadata": {},
   "outputs": [
    {
     "data": {
      "text/plain": [
       "array([[-9]])"
      ]
     },
     "execution_count": 26,
     "metadata": {},
     "output_type": "execute_result"
    }
   ],
   "source": [
    "# 列ベクトル同士の内積\n",
    "u = np.array([[-2],\n",
    "[3],\n",
    "[5]])\n",
    "v = np.array([[6],\n",
    "[1],\n",
    "[0]])\n",
    "u.T @ v"
   ]
  },
  {
   "cell_type": "code",
   "execution_count": 28,
   "metadata": {},
   "outputs": [
    {
     "data": {
      "text/plain": [
       "True"
      ]
     },
     "execution_count": 28,
     "metadata": {},
     "output_type": "execute_result"
    }
   ],
   "source": [
    "# 対象行列(正方行列)であるかを判定\n",
    "A = np.array([[1, 2],\n",
    "[2, 3]])\n",
    "np.allclose(A, A.T)"
   ]
  },
  {
   "cell_type": "code",
   "execution_count": 29,
   "metadata": {},
   "outputs": [
    {
     "data": {
      "text/plain": [
       "True"
      ]
     },
     "execution_count": 29,
     "metadata": {},
     "output_type": "execute_result"
    }
   ],
   "source": [
    "A_s = sy.Matrix(A)\n",
    "A_s == A_s.T"
   ]
  },
  {
   "cell_type": "code",
   "execution_count": 31,
   "metadata": {},
   "outputs": [
    {
     "data": {
      "text/plain": [
       "(array([[-2],\n",
       "        [ 3],\n",
       "        [ 5]]),\n",
       " array([[6],\n",
       "        [1],\n",
       "        [0]]),\n",
       " array([[-12,  -2,   0],\n",
       "        [ 18,   3,   0],\n",
       "        [ 30,   5,   0]]),\n",
       " array([[-12,  -2,   0],\n",
       "        [ 18,   3,   0],\n",
       "        [ 30,   5,   0]]))"
      ]
     },
     "execution_count": 31,
     "metadata": {},
     "output_type": "execute_result"
    }
   ],
   "source": [
    "# 行列の直積\n",
    "u = np.array([[-2],\n",
    "[3],\n",
    "[5]])\n",
    "v = np.array([[6],\n",
    "[1],\n",
    "[0]])\n",
    "u, v, np.outer(u, v), u @ v.T"
   ]
  },
  {
   "cell_type": "code",
   "execution_count": 32,
   "metadata": {},
   "outputs": [
    {
     "data": {
      "text/latex": [
       "$\\displaystyle \\left( \\left[\\begin{matrix}-2\\\\3\\\\5\\end{matrix}\\right], \\  \\left[\\begin{matrix}6\\\\1\\\\0\\end{matrix}\\right], \\  \\left[\\begin{matrix}-12 & -2 & 0\\\\18 & 3 & 0\\\\30 & 5 & 0\\end{matrix}\\right]\\right)$"
      ],
      "text/plain": [
       "⎛⎡-2⎤  ⎡6⎤  ⎡-12  -2  0⎤⎞\n",
       "⎜⎢  ⎥  ⎢ ⎥  ⎢          ⎥⎟\n",
       "⎜⎢3 ⎥, ⎢1⎥, ⎢18   3   0⎥⎟\n",
       "⎜⎢  ⎥  ⎢ ⎥  ⎢          ⎥⎟\n",
       "⎝⎣5 ⎦  ⎣0⎦  ⎣30   5   0⎦⎠"
      ]
     },
     "execution_count": 32,
     "metadata": {},
     "output_type": "execute_result"
    }
   ],
   "source": [
    "u_s = sy.Matrix(u)\n",
    "v_s = sy.Matrix(v)\n",
    "u_s, v_s, u_s * v_s.T"
   ]
  },
  {
   "cell_type": "code",
   "execution_count": 34,
   "metadata": {},
   "outputs": [
    {
     "data": {
      "image/png": "[encoded data removed]",
      "text/plain": [
       "<Figure size 640x480 with 1 Axes>"
      ]
     },
     "metadata": {},
     "output_type": "display_data"
    }
   ],
   "source": [
    "# ランダムに作成した 10×10 の疎行列をspyメソッドで可視化\n",
    "import matplotlib.pyplot as plt\n",
    "# ランダムに行列を作成\n",
    "np.random.seed(0)\n",
    "N = 10\n",
    "A = np.random.rand(N, N) > 0.8\n",
    "fig, ax = plt.subplots()\n",
    "ax.spy(A, markersize=10)\n",
    "# (i,j)成分がわかりやすいように目盛と目盛のラベルを設定\n",
    "ax.set_xticks(range(10))\n",
    "ax.set_xticklabels(range(1, 11))\n",
    "ax.set_yticks(range(10))\n",
    "ax.set_yticklabels(range(1, 11))\n",
    "ax.grid()"
   ]
  },
  {
   "cell_type": "code",
   "execution_count": 36,
   "metadata": {},
   "outputs": [
    {
     "data": {
      "image/png": "[encoded data removed]",
      "text/plain": [
       "<Figure size 640x480 with 1 Axes>"
      ]
     },
     "metadata": {},
     "output_type": "display_data"
    }
   ],
   "source": [
    "# 単位行列をspyメソッドで可視化\n",
    "D = np.eye(N)\n",
    "fig, ax = plt.subplots()\n",
    "ax.spy(D, markersize=10)\n",
    "ax.set_xticks(range(10))\n",
    "ax.set_xticklabels(range(1, 11))\n",
    "ax.set_yticks(range(10))\n",
    "ax.set_yticklabels(range(1, 11))\n",
    "ax.grid()\n",
    "# D(行列)・D^-1(逆行列) = D^-1・D = I(単位行列)"
   ]
  },
  {
   "cell_type": "code",
   "execution_count": 37,
   "metadata": {},
   "outputs": [
    {
     "data": {
      "image/png": "[encoded data removed]",
      "text/plain": [
       "<Figure size 640x480 with 1 Axes>"
      ]
     },
     "metadata": {},
     "output_type": "display_data"
    }
   ],
   "source": [
    "# 三重対角行列をspyメソッドで可視化\n",
    "A = np.tri(N, k=1) - np.tri(N, k=-2)\n",
    "fig, ax = plt.subplots()\n",
    "ax.spy(A, markersize=10)\n",
    "ax.set_xticks(range(10))\n",
    "ax.set_xticklabels(range(1, 11))\n",
    "ax.set_yticks(range(10))\n",
    "ax.set_yticklabels(range(1, 11))\n",
    "ax.grid()"
   ]
  },
  {
   "cell_type": "code",
   "execution_count": 38,
   "metadata": {},
   "outputs": [
    {
     "data": {
      "image/png": "[encoded data removed]",
      "text/plain": [
       "<Figure size 640x480 with 1 Axes>"
      ]
     },
     "metadata": {},
     "output_type": "display_data"
    }
   ],
   "source": [
    "# 下三角行列をspyメソッドで可視化\n",
    "L = np.tri(N)\n",
    "fig, ax = plt.subplots()\n",
    "ax.spy(L, markersize=10)\n",
    "ax.set_xticks(range(10))\n",
    "ax.set_xticklabels(range(1, 11))\n",
    "ax.set_yticks(range(10))\n",
    "ax.set_yticklabels(range(1, 11))\n",
    "ax.grid()"
   ]
  },
  {
   "cell_type": "code",
   "execution_count": 39,
   "metadata": {},
   "outputs": [
    {
     "data": {
      "image/png": "[encoded data removed]",
      "text/plain": [
       "<Figure size 640x480 with 1 Axes>"
      ]
     },
     "metadata": {},
     "output_type": "display_data"
    }
   ],
   "source": [
    "# 上三角行列をspyメソッドで可視化\n",
    "A = np.tri(N).T\n",
    "fig, ax = plt.subplots()\n",
    "ax.spy(A, markersize=10)\n",
    "ax.set_xticks(range(10))\n",
    "ax.set_xticklabels(range(1, 11))\n",
    "ax.set_yticks(range(10))\n",
    "ax.set_yticklabels(range(1, 11))\n",
    "ax.grid()"
   ]
  }
 ],
 "metadata": {
  "kernelspec": {
   "display_name": ".venv",
   "language": "python",
   "name": "python3"
  },
  "language_info": {
   "codemirror_mode": {
    "name": "ipython",
    "version": 3
   },
   "file_extension": ".py",
   "mimetype": "text/x-python",
   "name": "python",
   "nbconvert_exporter": "python",
   "pygments_lexer": "ipython3",
   "version": "3.11.1"
  }
 },
 "nbformat": 4,
 "nbformat_minor": 2
}
